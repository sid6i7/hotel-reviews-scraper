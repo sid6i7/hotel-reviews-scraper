{
 "cells": [
  {
   "cell_type": "markdown",
   "id": "fa4b8980",
   "metadata": {},
   "source": [
    "### Libraries used:\n",
    "\n",
    "- Selenium\n",
    "- BeautifulSoup\n",
    "- Pandas\n",
    "- Time\n",
    "- Sys\n",
    "- Random"
   ]
  },
  {
   "cell_type": "code",
   "execution_count": 2,
   "id": "9bbb5029",
   "metadata": {},
   "outputs": [],
   "source": [
    "from selenium import webdriver\n",
    "from selenium.webdriver.chrome.service import Service\n",
    "from webdriver_manager.chrome import ChromeDriverManager\n",
    "from bs4 import BeautifulSoup\n",
    "from selenium.webdriver.common.by import By\n",
    "from selenium.webdriver.common.keys import Keys\n",
    "from selenium.webdriver.support.ui import WebDriverWait\n",
    "from selenium.webdriver.support import expected_conditions as EC\n",
    "import pandas as pd\n",
    "import time\n",
    "import sys\n",
    "import random\n",
    "from selenium.webdriver.chrome.options import Options"
   ]
  },
  {
   "cell_type": "markdown",
   "id": "66af25a6",
   "metadata": {},
   "source": [
    "Code to setup the driver"
   ]
  },
  {
   "cell_type": "code",
   "execution_count": 3,
   "id": "c3e474b2",
   "metadata": {},
   "outputs": [
    {
     "name": "stderr",
     "output_type": "stream",
     "text": [
      "\n",
      "\n",
      "====== WebDriver manager ======\n",
      "Current google-chrome version is 100.0.4896\n",
      "Get LATEST chromedriver version for 100.0.4896 google-chrome\n",
      "Trying to download new driver from https://chromedriver.storage.googleapis.com/100.0.4896.60/chromedriver_win32.zip\n",
      "Driver has been saved in cache [C:\\Users\\siddh\\.wdm\\drivers\\chromedriver\\win32\\100.0.4896.60]\n"
     ]
    }
   ],
   "source": [
    "service = Service(ChromeDriverManager().install())\n",
    "driver = webdriver.Chrome(service=service)\n",
    "url = 'https://www.tripadvisor.in'\n",
    "driver.get(url) "
   ]
  },
  {
   "cell_type": "markdown",
   "id": "31ef9cb9",
   "metadata": {},
   "source": [
    "### Functions"
   ]
  },
  {
   "cell_type": "code",
   "execution_count": 4,
   "id": "d69048ad",
   "metadata": {},
   "outputs": [],
   "source": [
    "def start_scraping():\n",
    "    other_count = int(input(\"How many hotels to show? (max : 7)\"))\n",
    "    option_string, hotel_name = search_hotel(other_count)\n",
    "    print(option_string)\n",
    "    sys.stdout.flush()\n",
    "    home_page = driver.window_handles[0]\n",
    "    option = int(input(\"Choose a hotel to scrape reviews of: \"))\n",
    "    scrape_hotel(hotel_name, option, home_page)\n",
    "    print(f\"saved as {hotel_name}\" + \".csv\")"
   ]
  },
  {
   "cell_type": "code",
   "execution_count": 5,
   "id": "c547ce08",
   "metadata": {},
   "outputs": [],
   "source": [
    "def search_hotel(other_count):\n",
    "    WebDriverWait(driver, 30).until(\n",
    "        EC.presence_of_element_located(\n",
    "            (By.CLASS_NAME, 'bmTdH')\n",
    "        )\n",
    "    )\n",
    "    hotel_name = input(\"Enter a hotel name\")\n",
    "\n",
    "    search_box = driver.find_elements(\n",
    "        By.CLASS_NAME, 'bmTdH'\n",
    "    )\n",
    "\n",
    "    search_box[1].click()\n",
    "    input_box = search_box[1].find_element(By.NAME, 'q')\n",
    "\n",
    "    input_box.send_keys(hotel_name)\n",
    "    input_box.send_keys(Keys.ENTER)\n",
    "\n",
    "    WebDriverWait(driver, 30).until(\n",
    "        EC.presence_of_all_elements_located(\n",
    "            (By.CLASS_NAME, 'result-title')\n",
    "        )\n",
    "    )\n",
    "\n",
    "    option_string = get_search_details(other_count)\n",
    "    return option_string, hotel_name"
   ]
  },
  {
   "cell_type": "code",
   "execution_count": 6,
   "id": "38cf3138",
   "metadata": {},
   "outputs": [],
   "source": [
    "def next_page(home_page, soup, rand_delay):\n",
    "    next_btn = soup.find_all('a', {\"class\": 'next'})\n",
    "\n",
    "    if next_btn:\n",
    "        \n",
    "        WebDriverWait(driver, 15).until(\n",
    "            EC.element_to_be_clickable(\n",
    "                (By.CLASS_NAME, 'next')\n",
    "            )\n",
    "        ).click()\n",
    "\n",
    "        time.sleep(rand_delay)   \n",
    "\n",
    "        WebDriverWait(driver, 30).until(\n",
    "            EC.visibility_of_all_elements_located(\n",
    "                (By.CLASS_NAME, 'XllAv')\n",
    "            )\n",
    "        )\n",
    "\n",
    "        return 1\n",
    "\n",
    "    else:\n",
    "        driver.close()\n",
    "        #driver.switch_to.window(home_page)\n",
    "        return 0"
   ]
  },
  {
   "cell_type": "code",
   "execution_count": 7,
   "id": "4f71a199",
   "metadata": {},
   "outputs": [],
   "source": [
    "def get_hotel_names(soup):\n",
    "    title_tags = soup.find_all(\n",
    "        'div', {\"class\": \"result-title\"}\n",
    "    )\n",
    "    titles = []\n",
    "    for tag in title_tags:\n",
    "        titles.append(tag.span.text.strip())\n",
    "        \n",
    "    return titles"
   ]
  },
  {
   "cell_type": "code",
   "execution_count": 8,
   "id": "ac349a8d",
   "metadata": {},
   "outputs": [],
   "source": [
    "def get_review_titles(soup):\n",
    "\n",
    "    review_title_tags = soup.find_all('div', {\"class\": 'fpMxB MC _S b S6 H5 _a'})\n",
    "    review_titles = []\n",
    "    for tag in review_title_tags:\n",
    "        review_titles.append(tag.a.span.text.strip())\n",
    "        \n",
    "    return review_titles"
   ]
  },
  {
   "cell_type": "code",
   "execution_count": 9,
   "id": "e02e5896",
   "metadata": {},
   "outputs": [],
   "source": [
    "def get_full_reviews(soup):\n",
    "    \n",
    "    review_description_tags = soup.find_all('q', {\"class\": \"XllAv H4 _a\"})\n",
    "    review_descriptions = []\n",
    "    for tag in review_description_tags:\n",
    "        review_descriptions.append(tag.span.text.strip())\n",
    "\n",
    "    return review_descriptions"
   ]
  },
  {
   "cell_type": "code",
   "execution_count": 10,
   "id": "c5a7b9e3",
   "metadata": {},
   "outputs": [],
   "source": [
    "def get_review_stars(soup):\n",
    "    \n",
    "    star_tags = soup.find_all('div', {\"class\": \"emWez\"})\n",
    "    soup = BeautifulSoup(driver.page_source, 'html.parser')\n",
    "    stars = []\n",
    "\n",
    "    for tag in star_tags:\n",
    "        star = int(tag.span['class'][1].split('_')[1])/10\n",
    "        stars.append(star)\n",
    "\n",
    "    return stars"
   ]
  },
  {
   "cell_type": "code",
   "execution_count": 11,
   "id": "64b28309",
   "metadata": {},
   "outputs": [],
   "source": [
    "def get_review_dates(soup):\n",
    "    date_tags = soup.find_all('span', {\"class\": \"euPKI\"})\n",
    "    dates = []\n",
    "    for tag in date_tags:\n",
    "        date = tag.text.strip()\n",
    "        dates.append(date)\n",
    "    return dates"
   ]
  },
  {
   "cell_type": "code",
   "execution_count": 12,
   "id": "878ed504",
   "metadata": {},
   "outputs": [],
   "source": [
    "def get_hotel_addresses(soup):\n",
    "    address_tags = soup.find_all(\n",
    "        'div', {\"class\": \"address-text\"}\n",
    "    )\n",
    "    addresses = []\n",
    "    for tag in address_tags:\n",
    "        addresses.append(tag.text.strip())\n",
    "        \n",
    "    return addresses"
   ]
  },
  {
   "cell_type": "code",
   "execution_count": 13,
   "id": "a6cea14d",
   "metadata": {},
   "outputs": [],
   "source": [
    "def get_search_details(other_count):\n",
    "    \n",
    "    soup = BeautifulSoup(driver.page_source, 'html.parser')\n",
    "    \n",
    "    titles = get_hotel_names(soup)\n",
    "    addresses = get_hotel_addresses(soup)\n",
    "    ratings = get_ratings(soup)\n",
    "    n_reviews = get_n_reviews(soup)\n",
    "\n",
    "    option_string = \"\"\n",
    "\n",
    "    for i in range(other_count):\n",
    "        option_string+=f\"\"\"\n",
    "            {i+1} Hotel name:  {titles[i]}\n",
    "                  Address: {addresses[i]}\n",
    "                  Rating: {ratings[i]}\n",
    "                  Number of reviews: {n_reviews[i]}\n",
    "            ----------------------------------------------------------------------\"\"\"\n",
    "    \n",
    "    return option_string"
   ]
  },
  {
   "cell_type": "code",
   "execution_count": 14,
   "id": "785d0fb4",
   "metadata": {},
   "outputs": [],
   "source": [
    "def get_ratings(soup):\n",
    "    rating_tags = soup.find_all(\n",
    "        'span', {\"class\": \"ui_bubble_rating\"}\n",
    "    )\n",
    "    ratings = []\n",
    "\n",
    "    for tag in rating_tags:\n",
    "        rating = tag['alt'].split('b')[0].strip().replace(' of ', '/')\n",
    "        ratings.append(rating)\n",
    "    \n",
    "    return ratings"
   ]
  },
  {
   "cell_type": "code",
   "execution_count": 15,
   "id": "78e6ed9e",
   "metadata": {},
   "outputs": [],
   "source": [
    "def get_n_reviews(soup):\n",
    "    review_tags = soup.find_all(\n",
    "        'a', {\"class\": \"review_count\"}\n",
    "    )\n",
    "    n_reviews = []\n",
    "    for tag in review_tags:\n",
    "        n_reviews.append(tag.text.strip())\n",
    "    \n",
    "    return n_reviews"
   ]
  },
  {
   "cell_type": "markdown",
   "id": "120c07d1",
   "metadata": {},
   "source": [
    "Driver function"
   ]
  },
  {
   "cell_type": "code",
   "execution_count": 16,
   "id": "583d56d4",
   "metadata": {},
   "outputs": [],
   "source": [
    "def scrape_hotel(hotel_name, option, hotel_page):\n",
    "\n",
    "    link_tag = driver.find_elements(\n",
    "        By.CLASS_NAME, 'review_count'\n",
    "    )\n",
    "\n",
    "    link_tag[option-1].click()\n",
    "\n",
    "    time.sleep(5)\n",
    "\n",
    "    hotel_page = driver.window_handles[1]\n",
    "    driver.switch_to.window(hotel_page)\n",
    "\n",
    "    review_titles = []\n",
    "    full_reviews = []\n",
    "    review_stars = []\n",
    "    dates = []\n",
    "    \n",
    "    i = 0\n",
    "    \n",
    "    while True:\n",
    "\n",
    "        soup = BeautifulSoup(driver.page_source, 'html.parser')\n",
    "        review_titles += get_review_titles(soup)\n",
    "        full_reviews += get_full_reviews(soup)\n",
    "        review_stars += get_review_stars(soup)\n",
    "        dates += get_review_dates(soup)\n",
    "        \n",
    "        if i%20 == 0:\n",
    "            rand_delay = random.randint(2, 5)\n",
    "        \n",
    "        n = next_page(hotel_page, soup, rand_delay)\n",
    "        if(n==0):\n",
    "            break\n",
    "        \n",
    "        i = i + 1\n",
    "\n",
    "    review_dict = {\n",
    "        \"review_title\": review_titles,\n",
    "        \"stars\": review_stars,\n",
    "        \"date\": dates,\n",
    "        \"full_review\": full_reviews\n",
    "\n",
    "    }\n",
    "\n",
    "    df = pd.DataFrame(review_dict)\n",
    "    df.to_csv(hotel_name+'.csv', index=False)"
   ]
  },
  {
   "cell_type": "code",
   "execution_count": 17,
   "id": "f9fd931b",
   "metadata": {},
   "outputs": [
    {
     "name": "stdout",
     "output_type": "stream",
     "text": [
      "How many hotels to show? (max : 7)5\n",
      "Enter a hotel nameTreebo\n",
      "\n",
      "            1 Hotel name:  Treebo Trend Daksh Residency\n",
      "                  Address: Indore, Indore District, Madhya Pradesh, India\n",
      "                  Rating: 4.5/5\n",
      "                  Number of reviews: 468 reviews\n",
      "            ----------------------------------------------------------------------\n",
      "            2 Hotel name:  Treebo Trend Shivani\n",
      "                  Address: 83/2 Biyabani, Dhar Road, Indore, Indore District, Madhya Pradesh, India\n",
      "                  Rating: 3.5/5\n",
      "                  Number of reviews: 74 reviews\n",
      "            ----------------------------------------------------------------------\n",
      "            3 Hotel name:  Treebo Trend Cherry Tree\n",
      "                  Address: 2, Manoramaganj, A.B. Road, Indore, Indore District, Madhya Pradesh, India\n",
      "                  Rating: 4/5\n",
      "                  Number of reviews: 71 reviews\n",
      "            ----------------------------------------------------------------------\n",
      "            4 Hotel name:  Treebo Trip Golden Treat\n",
      "                  Address: 13, Professor Colony, Indore, Indore District, Madhya Pradesh, India\n",
      "                  Rating: 3.5/5\n",
      "                  Number of reviews: 62 reviews\n",
      "            ----------------------------------------------------------------------\n",
      "            5 Hotel name:  Hotel Paradise, Indore\n",
      "                  Address: Bombay Hospital Linking Road, Indore, Indore District, Madhya Pradesh, India\n",
      "                  Rating: 4.5/5\n",
      "                  Number of reviews: 281 reviews\n",
      "            ----------------------------------------------------------------------\n",
      "Choose a hotel to scrape reviews of: 2\n",
      "saved as Treebo.csv\n"
     ]
    }
   ],
   "source": [
    "start_scraping()"
   ]
  },
  {
   "cell_type": "code",
   "execution_count": null,
   "id": "7973131c",
   "metadata": {},
   "outputs": [],
   "source": []
  }
 ],
 "metadata": {
  "kernelspec": {
   "display_name": "Python 3 (ipykernel)",
   "language": "python",
   "name": "python3"
  },
  "language_info": {
   "codemirror_mode": {
    "name": "ipython",
    "version": 3
   },
   "file_extension": ".py",
   "mimetype": "text/x-python",
   "name": "python",
   "nbconvert_exporter": "python",
   "pygments_lexer": "ipython3",
   "version": "3.9.7"
  }
 },
 "nbformat": 4,
 "nbformat_minor": 5
}
